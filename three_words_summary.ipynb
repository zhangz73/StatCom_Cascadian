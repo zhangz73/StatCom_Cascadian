{
 "cells": [
  {
   "cell_type": "markdown",
   "metadata": {
    "collapsed": true
   },
   "source": [
    "# Three Words Summary"
   ]
  },
  {
   "cell_type": "markdown",
   "metadata": {},
   "source": [
    "Import Packages"
   ]
  },
  {
   "cell_type": "code",
   "execution_count": 1,
   "metadata": {},
   "outputs": [],
   "source": [
    "import nltk\n",
    "from nltk.tokenize import word_tokenize, RegexpTokenizer\n",
    "\n",
    "import gensim\n",
    "from gensim.models import Word2Vec\n",
    "\n",
    "import csv\n",
    "\n",
    "import numpy as np"
   ]
  },
  {
   "cell_type": "markdown",
   "metadata": {},
   "source": [
    "Read File and Set Up"
   ]
  },
  {
   "cell_type": "code",
   "execution_count": 2,
   "metadata": {},
   "outputs": [],
   "source": [
    "punc_tokenizer = RegexpTokenizer(r'\\w+')\n",
    "\n",
    "words = []\n",
    "with open(\"Cascadia_2018_form_340_responses.csv\") as src_file:\n",
    "    csv_reader = csv.reader(src_file, delimiter=',')\n",
    "    for row in csv_reader:\n",
    "        content = row[4]\n",
    "        words.append(content)\n",
    "\n",
    "words = words[1:]"
   ]
  },
  {
   "cell_type": "markdown",
   "metadata": {},
   "source": [
    "Filter out the adjectives and nouns"
   ]
  },
  {
   "cell_type": "code",
   "execution_count": 3,
   "metadata": {},
   "outputs": [],
   "source": [
    "def parse_token(str):\n",
    "    return punc_tokenizer.tokenize(str.lower())\n",
    "\n",
    "parsed_words = []\n",
    "for w in words:\n",
    "    temp = parse_token(w)\n",
    "    parsed_words.extend(temp)\n",
    "\n",
    "adj_words = []\n",
    "n_words = []\n",
    "for w in parsed_words:\n",
    "    token = word_tokenize(w)\n",
    "    _, tag = nltk.pos_tag(token)[0]\n",
    "    if tag == \"JJ\":\n",
    "        adj_words.append(token)\n",
    "    elif tag == \"NN\":\n",
    "        n_words.append(token)"
   ]
  },
  {
   "cell_type": "markdown",
   "metadata": {},
   "source": [
    "Constructing word vector banks for adjectives and nouns"
   ]
  },
  {
   "cell_type": "code",
   "execution_count": 4,
   "metadata": {},
   "outputs": [
    {
     "name": "stdout",
     "output_type": "stream",
     "text": [
      "Done generating vector matrices!\n",
      "Done generating word vector banks for adj and noun!\n"
     ]
    }
   ],
   "source": [
    "f = open('glove.6B.100d.txt', 'r')\n",
    "lines = f.read().split('\\n')\n",
    "words_vectors_bank = {}\n",
    "for l in lines:\n",
    "    vectors = l.split()\n",
    "    w = vectors[0]\n",
    "    v = [float(i) for i in vectors[1:]]\n",
    "    words_vectors_bank[w] = v\n",
    "\n",
    "d = 100\n",
    "adj_vec_matrix = np.zeros(d)\n",
    "n_vec_matrix = np.zeros(d)\n",
    "for w in adj_words:\n",
    "    if w[0] in words_vectors_bank:\n",
    "        adj_vec_matrix = np.vstack((adj_vec_matrix, words_vectors_bank[w[0]]))\n",
    "adj_vec_matrix = adj_vec_matrix[1:]\n",
    "for w in n_words:\n",
    "    if w[0] in words_vectors_bank:\n",
    "        n_vec_matrix = np.vstack((n_vec_matrix, words_vectors_bank[w[0]]))\n",
    "n_vec_matrix = n_vec_matrix[1:]\n",
    "\n",
    "print(\"Done generating vector matrices!\")\n",
    "\n",
    "def get_pos_vec_bank(p_tag):\n",
    "    ret = {}\n",
    "    for w in words_vectors_bank:\n",
    "        token = word_tokenize(w)\n",
    "        _, tag = nltk.pos_tag(token)[0]\n",
    "        if tag == p_tag:\n",
    "            ret[w] = words_vectors_bank[w]\n",
    "    return ret\n",
    "\n",
    "adj_word_vectors_bank = get_pos_vec_bank(\"JJ\")\n",
    "n_word_vectors_bank = get_pos_vec_bank(\"NN\")\n",
    "\n",
    "print(\"Done generating word vector banks for adj and noun!\")"
   ]
  },
  {
   "cell_type": "markdown",
   "metadata": {},
   "source": [
    "Finding K-means for adjectives and nouns"
   ]
  },
  {
   "cell_type": "code",
   "execution_count": 5,
   "metadata": {},
   "outputs": [
    {
     "name": "stdout",
     "output_type": "stream",
     "text": [
      "Done generating K-means matrices!\n"
     ]
    }
   ],
   "source": [
    "def get_Kmeans_matrix(m, k):\n",
    "    N, d = np.shape(m)\n",
    "    ret = np.random.randn(k, d)\n",
    "    for i in range(500):\n",
    "        sum = np.zeros((k, d))\n",
    "        cnt = np.zeros(k)\n",
    "        for j in range(N):\n",
    "            data = m[j]\n",
    "            diff = np.sum(np.square(ret - data), axis=1).reshape((1, k))\n",
    "            sum[np.argmin(diff)] = sum[np.argmin(diff)] + data\n",
    "            cnt[np.argmin(diff)] += 1\n",
    "        for j in range(k):\n",
    "            if cnt[j] != 0:\n",
    "                sum[j] = sum[j] / cnt[j]\n",
    "        ret = sum\n",
    "    return ret\n",
    "\n",
    "k_adj = 5\n",
    "adj_kmeans_matrix = get_Kmeans_matrix(adj_vec_matrix, k_adj)\n",
    "k_n = 5\n",
    "n_kmeans_matrix = get_Kmeans_matrix(n_vec_matrix, k_n)\n",
    "\n",
    "print(\"Done generating K-means matrices!\")"
   ]
  },
  {
   "cell_type": "markdown",
   "metadata": {},
   "source": [
    "Output the summarized words: finding 2 words that are most cosine-similar to each k-mean vector"
   ]
  },
  {
   "cell_type": "code",
   "execution_count": 6,
   "metadata": {},
   "outputs": [
    {
     "name": "stdout",
     "output_type": "stream",
     "text": [
      "10 summarized adjectives are:\n",
      "   local 0.8856689514515084\n",
      "   regional 0.8712964016473018\n",
      "   inclusive 0.8099856756452893\n",
      "   sensible 0.7573036691801338\n",
      "   same 0.8400302926235728\n",
      "   own 0.8126935754984307\n",
      "   hippy 0.892779887924643\n",
      "   spiritualistic 0.70272526837797\n",
      "   sustainable 0.8751905637343818\n",
      "   ecological 0.8643748437565358\n",
      "10 summarized nouns are:\n",
      "   freedom 0.847512151594694\n",
      "   democracy 0.8103868936803786\n",
      "   bioregional 0.8143149498762233\n",
      "   bioregion 0.7678613207133711\n",
      "   environmentalism 0.708959283848486\n",
      "   socialism 0.6790859349680515\n",
      "   way 0.8942560284709925\n",
      "   time 0.8513820338878982\n",
      "   secession 0.9833103918913542\n",
      "   secede 0.6970632262229792\n"
     ]
    }
   ],
   "source": [
    "def output_cos_words(word_vectors_bank, kmeans_matrix, k, num):\n",
    "    for j in range(k):\n",
    "        cosine_similarity_w1 = {}\n",
    "        v1 = kmeans_matrix[j]\n",
    "        for w in word_vectors_bank:\n",
    "            v = word_vectors_bank[w]\n",
    "            cos1 = np.dot(v, v1) / np.sqrt(np.sum(np.square(v)) * np.sum(np.square(v1)))\n",
    "            cosine_similarity_w1[cos1] = w\n",
    "\n",
    "        sorted_cos1 = sorted(cosine_similarity_w1, reverse=True)[:num]\n",
    "        for i in range(0, num):\n",
    "            print(\"   \" + str(cosine_similarity_w1[sorted_cos1[i]]) + ' ' + str(sorted_cos1[i]))\n",
    "\n",
    "num_adj = 2\n",
    "num_n = 2\n",
    "print(str(k_adj*num_adj) + \" summarized adjectives are:\")\n",
    "output_cos_words(adj_word_vectors_bank, adj_kmeans_matrix, k_adj, num_adj)\n",
    "print(str(k_n*num_n) + \" summarized nouns are:\")\n",
    "output_cos_words(n_word_vectors_bank, n_kmeans_matrix, k_n, num_n)"
   ]
  }
 ],
 "metadata": {
  "kernelspec": {
   "display_name": "Python 3",
   "language": "python",
   "name": "python3"
  },
  "language_info": {
   "codemirror_mode": {
    "name": "ipython",
    "version": 3
   },
   "file_extension": ".py",
   "mimetype": "text/x-python",
   "name": "python",
   "nbconvert_exporter": "python",
   "pygments_lexer": "ipython3",
   "version": "3.7.2"
  }
 },
 "nbformat": 4,
 "nbformat_minor": 1
}
